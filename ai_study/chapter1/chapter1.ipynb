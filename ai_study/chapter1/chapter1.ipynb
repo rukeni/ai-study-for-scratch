{
 "cells": [
  {
   "cell_type": "code",
   "execution_count": 2,
   "id": "47c7ecb3-7368-4fe4-917d-e476c9369bb4",
   "metadata": {},
   "outputs": [],
   "source": [
    "# 리스트 생성"
   ]
  },
  {
   "cell_type": "code",
   "execution_count": 5,
   "id": "dbda07ee-5fea-470c-8d04-6d2f8df141d2",
   "metadata": {},
   "outputs": [
    {
     "name": "stdout",
     "output_type": "stream",
     "text": [
      "[1, 2, 3, 4, 5, 6, 7, 8, 9, 10]\n"
     ]
    }
   ],
   "source": [
    "data_list = [1,2,3,4,5,6,7,8,9,10]\n",
    "print(data_list)"
   ]
  },
  {
   "cell_type": "code",
   "execution_count": null,
   "id": "e956f68a",
   "metadata": {},
   "outputs": [],
   "source": []
  },
  {
   "cell_type": "code",
   "execution_count": 6,
   "id": "df0799cd-3afc-4ed0-8537-343168a7fbd4",
   "metadata": {},
   "outputs": [
    {
     "name": "stdout",
     "output_type": "stream",
     "text": [
      "변수 형: <class 'list'>\n"
     ]
    }
   ],
   "source": [
    "# type 명령으로 변수 형을 알 수 있다\n",
    "print('변수 형:', type(data_list))"
   ]
  },
  {
   "cell_type": "code",
   "execution_count": 8,
   "id": "d18b9dcd-7d6c-4a80-a27e-5260b15f1c27",
   "metadata": {},
   "outputs": [
    {
     "name": "stdout",
     "output_type": "stream",
     "text": [
      "두 번째 원소: 2\n"
     ]
    }
   ],
   "source": [
    "# 1개의 원소를 출력한다. 0부터 시작하므로 [1]은 두 번째 원솟값이다.\n",
    "print('두 번째 원소:', data_list[1])"
   ]
  },
  {
   "cell_type": "code",
   "execution_count": 18,
   "id": "beb4d221-9179-4e8a-9106-29b8d4c55e41",
   "metadata": {},
   "outputs": [
    {
     "name": "stdout",
     "output_type": "stream",
     "text": [
      "원소의 개수: 10\n"
     ]
    }
   ],
   "source": [
    "# len 함수로 원소의 개수를 출력.\n",
    "# 여기에서는 1부터 10까지 10개의 원소가 있기 때문에 결과는 10이다.\n",
    "print('원소의 개수:', len(data_list))"
   ]
  },
  {
   "cell_type": "code",
   "execution_count": 19,
   "id": "ed8653a0-491d-40cb-a939-d50544a28c9f",
   "metadata": {},
   "outputs": [
    {
     "name": "stdout",
     "output_type": "stream",
     "text": [
      "3\n"
     ]
    }
   ],
   "source": [
    "# 주피터 환경에서 노트북 위의 +을 눌러(또는 커맨드 모드에서 b를 눌러) 셀을 추가하고 리스트를 생성해 원소의 개수를 출력해봅시다.\n",
    "try_list = [1,2,3]\n",
    "print(len(try_list))"
   ]
  },
  {
   "cell_type": "code",
   "execution_count": 20,
   "id": "b5140689-86d8-4ade-a2d1-063dd0eea5b8",
   "metadata": {},
   "outputs": [
    {
     "data": {
      "text/plain": [
       "[1, 2, 3, 4, 5, 6, 7, 8, 9, 10, 1, 2, 3, 4, 5, 6, 7, 8, 9, 10]"
      ]
     },
     "execution_count": 20,
     "metadata": {},
     "output_type": "execute_result"
    }
   ],
   "source": [
    "# 리스트 자체가 두 번 생성됨\n",
    "# 너무 신기하다..\n",
    "data_list * 2"
   ]
  },
  {
   "cell_type": "code",
   "execution_count": 32,
   "id": "8a63ba87-2a10-4d6b-87f4-49ad5d7b449d",
   "metadata": {},
   "outputs": [
    {
     "name": "stdout",
     "output_type": "stream",
     "text": [
      "[2, 3, 5, 6, 7, 8, 9, 10, 123, 123, 123, 123, 123, 123]\n",
      "[2, 3, 5, 6, 7, 8, 9, 10, 123, 123, 123, 123, 123]\n",
      "[2, 3, 5, 6, 7, 8, 9, 10, 123, 123, 123, 123]\n",
      "[2, 3, 5, 6, 7, 8, 9, 10, 123, 123, 123]\n"
     ]
    }
   ],
   "source": [
    "# 리스트에 원소를 추가하거나 삭제하는 방법을 찾아보고 실행해 봅시다.\n",
    "data_list.append(123)\n",
    "print(data_list)\n",
    "\n",
    "data_list.remove(123)\n",
    "print(data_list)\n",
    "\n",
    "data_list.pop()\n",
    "print(data_list)\n",
    "\n",
    "del data_list[len(data_list) - 1]\n",
    "print(data_list)"
   ]
  },
  {
   "cell_type": "code",
   "execution_count": 16,
   "id": "4a917269-b8a2-4cc8-92bb-f75a01629e3d",
   "metadata": {},
   "outputs": [
    {
     "name": "stdout",
     "output_type": "stream",
     "text": [
      "500\n"
     ]
    }
   ],
   "source": [
    "# 딕셔너리\n",
    "dic_data = {'apple': 100, 'banana': 100, 'orange': 300, 'mango': 400, 'melon': 500}\n",
    "print(dic_data['melon'])"
   ]
  },
  {
   "cell_type": "code",
   "execution_count": 34,
   "id": "80007da8-9da2-4a03-b5a1-7bc2ae63abfe",
   "metadata": {},
   "outputs": [
    {
     "name": "stdout",
     "output_type": "stream",
     "text": [
      "300\n",
      "더하기 apple + orange = 400\n"
     ]
    }
   ],
   "source": [
    "# 위의 코드에서는 melon의 값을 출력했는데, 이번에는 orange의 값을 출력해 봅시다. 또 키가 apple, orange인 값을 서로 더해 봅시다.\n",
    "print(dic_data['orange'])\n",
    "print('더하기 apple + orange =', dic_data['apple'] + dic_data['orange'])"
   ]
  },
  {
   "cell_type": "code",
   "execution_count": 39,
   "id": "4d85f79f-f577-4956-ba69-ee2a449d5780",
   "metadata": {},
   "outputs": [
    {
     "name": "stdout",
     "output_type": "stream",
     "text": [
      "{'banana': 100, 'orange': 300, 'mango': 400, 'melon': 500, 'grape': 700}\n"
     ]
    }
   ],
   "source": [
    "# 딕셔너리 데이터에 새로운 원소를 추가하거나 삭제하는 방법을 찾아보고 실행해 봅시다.\n",
    "# dic_data['grape'] = 700 # 추가\n",
    "# del dic_data['apple'] # 삭제\n",
    "\n",
    "print(dic_data)"
   ]
  },
  {
   "cell_type": "code",
   "execution_count": 9,
   "id": "4af35b31-5b03-4c3e-a36a-cb131fdf3ad9",
   "metadata": {},
   "outputs": [
    {
     "name": "stdout",
     "output_type": "stream",
     "text": [
      "('a', 'b', ('ab', 'cd'))\n",
      "{1, 2, 3}\n",
      "[1, 2, 3]\n",
      "{1, 2, 3, 7, 9}\n"
     ]
    }
   ],
   "source": [
    "# 파이썬 튜플과 집합에 대해 역할과 사용 방법을 찾아보고 사용해 봅시다.\n",
    "tuple = ('a', 'b', ('ab', 'cd')) # 업데이트 및 삭제 불가\n",
    "\n",
    "print(tuple)\n",
    "\n",
    "set1 = set([1,2,3])\n",
    "print(set1)\n",
    "print(list(set1))\n",
    "\n",
    "set1.add(1)\n",
    "set1.add(7)\n",
    "set1.add(9)\n",
    "print(set1)"
   ]
  },
  {
   "cell_type": "code",
   "execution_count": 12,
   "id": "88d73289-0b0e-4369-ba8b-678e150ec341",
   "metadata": {},
   "outputs": [
    {
     "data": {
      "text/plain": [
       "True"
      ]
     },
     "execution_count": 12,
     "metadata": {},
     "output_type": "execute_result"
    }
   ],
   "source": [
    "1 == 1\n",
    "1 == 2\n",
    "1 != 2\n",
    "1 > 0\n",
    "1 > 2\n",
    "(1 > 0) and (10 > 5)\n",
    "(1 < 0) or (10 > 5)\n",
    "not (1 < 0)"
   ]
  },
  {
   "cell_type": "code",
   "execution_count": 14,
   "id": "c442fa67-caaf-455f-8f3b-2d5663c1db20",
   "metadata": {},
   "outputs": [
    {
     "name": "stdout",
     "output_type": "stream",
     "text": [
      "5은 들어 있지 않습니다.\n",
      "여기서부터는 if 문과 관계없이, 반드시 표시됩니다.\n"
     ]
    }
   ],
   "source": [
    "value = 5\n",
    "data_list = [1,2,3,4]\n",
    "\n",
    "if value in data_list:\n",
    "    print('{0}은 들어 있습니다.'.format(value))\n",
    "else:\n",
    "    print('{0}은 들어 있지 않습니다.'.format(value))\n",
    "\n",
    "print('여기서부터는 if 문과 관계없이, 반드시 표시됩니다.')\n"
   ]
  },
  {
   "cell_type": "code",
   "execution_count": 19,
   "id": "33533081-5960-4820-98c2-8bdcb9af1a57",
   "metadata": {},
   "outputs": [
    {
     "name": "stdout",
     "output_type": "stream",
     "text": [
      "3은 들어 있습니다.\n"
     ]
    }
   ],
   "source": [
    "# 출력 결과가 바뀌도록 숫자를 바꿔 실행해 봅시다. 또 조건문이나 출력 결과 등을 바꿔 봅니다.\n",
    "value = 3\n",
    "\n",
    "if value in data_list:\n",
    "    print('{0}은 들어 있습니다.'.format(value))\n",
    "else: \n",
    "    print('{0}은 들어 있지 않습니다.'.format(value))"
   ]
  },
  {
   "cell_type": "code",
   "execution_count": 22,
   "id": "f6b41f91-cf38-4321-a59e-0a5759cace24",
   "metadata": {},
   "outputs": [
    {
     "name": "stdout",
     "output_type": "stream",
     "text": [
      "2와 3을 더하면 5입니다\n"
     ]
    }
   ],
   "source": [
    "print('{0}와 {1}을 더하면 {2}입니다'.format(2,3,5))"
   ]
  },
  {
   "cell_type": "code",
   "execution_count": 24,
   "id": "02a34eb7-6cb7-45f7-87b6-0acf34eb328d",
   "metadata": {},
   "outputs": [
    {
     "name": "stdout",
     "output_type": "stream",
     "text": [
      "number: 1\n",
      "number: 2\n",
      "number: 3\n",
      "number: 4\n",
      "total: 10\n"
     ]
    }
   ],
   "source": [
    "# 초깃값 설정\n",
    "total = 0\n",
    "\n",
    "# for 문\n",
    "for number in [1,2,3,4]:\n",
    "    print('number:', number)\n",
    "    total = total + number\n",
    "\n",
    "print('total:', total)"
   ]
  },
  {
   "cell_type": "code",
   "execution_count": 27,
   "id": "fc69d4c9-eb3e-4b3e-b243-1ddf294671b7",
   "metadata": {},
   "outputs": [
    {
     "name": "stdout",
     "output_type": "stream",
     "text": [
      "apple 100\n",
      "banana 100\n",
      "orange 300\n",
      "mango 400\n",
      "melon 500\n"
     ]
    }
   ],
   "source": [
    "dic = {'apple': 100, 'banana': 100, 'orange': 300, 'mango': 400, 'melon': 500}\n",
    "for key in dic:\n",
    "    print(key, dic[key])\n"
   ]
  },
  {
   "cell_type": "code",
   "execution_count": 29,
   "id": "cad6cfbc-fb38-43e9-8839-6a1fe7c30b68",
   "metadata": {},
   "outputs": [
    {
     "name": "stdout",
     "output_type": "stream",
     "text": [
      "0\n",
      "1\n",
      "2\n",
      "3\n",
      "4\n",
      "5\n",
      "6\n",
      "7\n",
      "8\n",
      "9\n",
      "10\n"
     ]
    }
   ],
   "source": [
    "for index in range(11):\n",
    "    print(index)\n"
   ]
  },
  {
   "cell_type": "code",
   "execution_count": 31,
   "id": "f4101d56-a2c7-4b8e-91b5-56e6eed0a3d0",
   "metadata": {},
   "outputs": [
    {
     "name": "stdout",
     "output_type": "stream",
     "text": [
      "1\n",
      "3\n",
      "5\n",
      "7\n",
      "9\n"
     ]
    }
   ],
   "source": [
    "for i in range(1, 11, 2):\n",
    "    print(i)"
   ]
  },
  {
   "cell_type": "code",
   "execution_count": 34,
   "id": "22a716b3-0151-414c-81c9-7020d1236a86",
   "metadata": {},
   "outputs": [
    {
     "name": "stdout",
     "output_type": "stream",
     "text": [
      "apple 100\n",
      "banana 100\n",
      "orange 300\n",
      "mango 400\n",
      "melon 500\n"
     ]
    }
   ],
   "source": [
    "for key, value in dic.items():\n",
    "    print(key, value)\n"
   ]
  },
  {
   "cell_type": "code",
   "execution_count": 35,
   "id": "7dac94d2-7039-4b52-9b0d-4c9dd4259026",
   "metadata": {},
   "outputs": [
    {
     "data": {
      "text/plain": [
       "[2, 4, 6, 8]"
      ]
     },
     "execution_count": 35,
     "metadata": {},
     "output_type": "execute_result"
    }
   ],
   "source": [
    "# 컴프리헨션\n",
    "[i * 2 for i in [1,2,3,4]]"
   ]
  },
  {
   "cell_type": "code",
   "execution_count": 37,
   "id": "dbc97ded-59d5-4948-8f5b-c60474d9ba06",
   "metadata": {},
   "outputs": [
    {
     "name": "stdout",
     "output_type": "stream",
     "text": [
      "[2, 4, 6, 8]\n"
     ]
    }
   ],
   "source": [
    "data_list1 = []\n",
    "\n",
    "data_list1 = [i * 2 for i in [1,2,3,4]]\n",
    "print(data_list1)"
   ]
  },
  {
   "cell_type": "code",
   "execution_count": 39,
   "id": "1a2ffaf8-b8a2-4d62-b1f5-89a1179d68e6",
   "metadata": {},
   "outputs": [
    {
     "data": {
      "text/plain": [
       "[4, 8]"
      ]
     },
     "execution_count": 39,
     "metadata": {},
     "output_type": "execute_result"
    }
   ],
   "source": [
    "[i * 2 for i in [1,2,3,4] if i % 2 == 0]"
   ]
  },
  {
   "cell_type": "code",
   "execution_count": 41,
   "id": "b3677a3e-eb0f-4adf-8fe7-11ec1d0d000b",
   "metadata": {},
   "outputs": [
    {
     "name": "stdout",
     "output_type": "stream",
     "text": [
      "<zip object at 0x104c60e00>\n"
     ]
    }
   ],
   "source": [
    "# zip 함수\n",
    "\n",
    "print(zip([1,2,3], [4,5,6]))"
   ]
  },
  {
   "cell_type": "code",
   "execution_count": 43,
   "id": "ae2efd0d-7572-4bd0-8d39-327bd613d548",
   "metadata": {},
   "outputs": [
    {
     "name": "stdout",
     "output_type": "stream",
     "text": [
      "1 과 11\n",
      "2 과 12\n",
      "3 과 13\n"
     ]
    }
   ],
   "source": [
    "for one, two in zip([1,2,3] , [11, 12, 13]):\n",
    "    print(one, '과', two)"
   ]
  },
  {
   "cell_type": "code",
   "execution_count": 45,
   "id": "b7d056df-4a8b-46c9-93fa-95c56518bda2",
   "metadata": {},
   "outputs": [
    {
     "name": "stdout",
     "output_type": "stream",
     "text": [
      "1\n",
      "2\n",
      "3\n",
      "4\n",
      "5\n",
      "6\n",
      "7\n",
      "8\n",
      "9\n",
      "10\n",
      "마지막 값은 11입니다\n"
     ]
    }
   ],
   "source": [
    "num = 1\n",
    "\n",
    "while num <= 10:\n",
    "    print(num)\n",
    "    num = num + 1\n",
    "\n",
    "print('마지막 값은 {0}입니다'.format(num))"
   ]
  },
  {
   "cell_type": "code",
   "execution_count": 47,
   "id": "64a4457b-4d11-4bcb-8e84-58b06adf00bd",
   "metadata": {},
   "outputs": [
    {
     "data": {
      "text/plain": [
       "8"
      ]
     },
     "execution_count": 47,
     "metadata": {},
     "output_type": "execute_result"
    }
   ],
   "source": [
    "def calc_multi(a, b):\n",
    "    return a * b\n",
    "calc_multi(2,4)"
   ]
  },
  {
   "cell_type": "code",
   "execution_count": 50,
   "id": "0538d0a7-3b75-4ea0-9fbd-91c719aa9201",
   "metadata": {},
   "outputs": [
    {
     "name": "stdout",
     "output_type": "stream",
     "text": [
      "피보나치 수: 55\n"
     ]
    }
   ],
   "source": [
    "# 피보나치 구현\n",
    "def calc_fib(n):\n",
    "    if n == 1 or n == 2:\n",
    "        return 1\n",
    "    else:\n",
    "        return calc_fib(n - 1) + calc_fib(n - 2)\n",
    "\n",
    "print('피보나치 수:', calc_fib(10))"
   ]
  },
  {
   "cell_type": "code",
   "execution_count": 52,
   "id": "127cb1d4-f99e-406b-b8d4-6e5a33a9d54b",
   "metadata": {},
   "outputs": [
    {
     "data": {
      "text/plain": [
       "27"
      ]
     },
     "execution_count": 52,
     "metadata": {},
     "output_type": "execute_result"
    }
   ],
   "source": [
    "(lambda a, b: a * b)(3,9)"
   ]
  },
  {
   "cell_type": "code",
   "execution_count": 57,
   "id": "51ff325e-47c0-40bf-9b26-e4ae6e2410e4",
   "metadata": {},
   "outputs": [
    {
     "name": "stdout",
     "output_type": "stream",
     "text": [
      "2\n",
      "4\n",
      "6\n",
      "8\n"
     ]
    },
    {
     "data": {
      "text/plain": [
       "[2, 4, 6, 8]"
      ]
     },
     "execution_count": 57,
     "metadata": {},
     "output_type": "execute_result"
    }
   ],
   "source": [
    "def double(x):\n",
    "    return x * 2\n",
    "\n",
    "for num in [1, 2, 3, 4]:\n",
    "    print(double(num))\n",
    "\n",
    "list(map(double, [1,2,3,4]))\n",
    "list(map(lambda x: x * 2, [1,2,3,4]))"
   ]
  },
  {
   "cell_type": "code",
   "execution_count": 60,
   "id": "febcb8cd-94c2-4e2d-a1aa-f2da7bf9372f",
   "metadata": {},
   "outputs": [
    {
     "data": {
      "text/plain": [
       "[2]"
      ]
     },
     "execution_count": 60,
     "metadata": {},
     "output_type": "execute_result"
    }
   ],
   "source": [
    "# reduce 함수나 filter 함수의 사용 방법을 찾아보고 직접 사용해 봅시다.\n",
    "\n",
    "def isTwo(x):\n",
    "    return x == 2\n",
    "\n",
    "list(filter(isTwo, [1,2,3,4]))\n",
    "# list(reduce(lambda acc, curr: acc + curr, [1,2,3,4]))"
   ]
  },
  {
   "cell_type": "code",
   "execution_count": 65,
   "id": "62df328a-7ebf-4f32-a7d9-a470291a25a7",
   "metadata": {},
   "outputs": [
    {
     "name": "stdout",
     "output_type": "stream",
     "text": [
      "D\n",
      "a\n",
      "t\n",
      "a\n",
      " \n",
      "S\n",
      "c\n",
      "i\n",
      "e\n",
      "n\n",
      "c\n",
      "e\n",
      "D\n",
      "a\n",
      "t\n",
      "a\n",
      " \n",
      "S\n",
      "c\n",
      "i\n",
      "e\n",
      "n\n",
      "c\n",
      "e\n"
     ]
    },
    {
     "data": {
      "text/plain": [
       "['D', 'a', 't', 'a', ' ', 'S', 'c', 'i', 'e', 'n', 'c', 'e']"
      ]
     },
     "execution_count": 65,
     "metadata": {},
     "output_type": "execute_result"
    }
   ],
   "source": [
    "# 연습문제 1-1\n",
    "# 어떤 문자열(Data Science 등)을 변수로 저장하고 그것을 한 문자씩 출력하는 프로그램을 작성하세요.\n",
    "\n",
    "data = 'Data Science'\n",
    "\n",
    "for str in data:\n",
    "    print(str)\n",
    "\n",
    "def console(x):\n",
    "    print(x)\n",
    "    return x\n",
    "    \n",
    "list(map(console, data))"
   ]
  },
  {
   "cell_type": "code",
   "execution_count": 70,
   "id": "76aaa76c-1f49-473e-bcf9-c68a5dbef894",
   "metadata": {},
   "outputs": [
    {
     "name": "stdout",
     "output_type": "stream",
     "text": [
      "1275\n"
     ]
    }
   ],
   "source": [
    "# 연습문제 1-2\n",
    "# 1부터 50까지 자연수의 합을 계산해 최종적으로 합산 결과를 출력하는 프로그램을 작성하세요.\n",
    "from functools import reduce\n",
    "\n",
    "print(reduce(lambda acc, curr: acc + curr, range(51)))"
   ]
  },
  {
   "cell_type": "code",
   "execution_count": 73,
   "id": "f18f6752-821f-4d5f-a2f4-500cf6bfd68c",
   "metadata": {},
   "outputs": [
    {
     "name": "stdout",
     "output_type": "stream",
     "text": [
      "10 100\n"
     ]
    },
    {
     "data": {
      "text/plain": [
       "1000"
      ]
     },
     "execution_count": 73,
     "metadata": {},
     "output_type": "execute_result"
    }
   ],
   "source": [
    "class PrintClass:\n",
    "    def print_me(self):\n",
    "        print(self.x, self.y)\n",
    "\n",
    "print1 = PrintClass()\n",
    "\n",
    "print1.x = 10\n",
    "print1.y = 100\n",
    "print1.z = 1000\n",
    "\n",
    "print1.print_me()\n",
    "print1.z"
   ]
  },
  {
   "cell_type": "code",
   "execution_count": 77,
   "id": "0c001232-139d-4492-9321-7386c5f9378f",
   "metadata": {},
   "outputs": [
    {
     "name": "stdout",
     "output_type": "stream",
     "text": [
      "2개의 수를 더함(새로운 숫자를 인수로 지정): 8\n",
      "2개의 수를 더함(인스턴스화 될 때의 값): 3\n",
      "2개의 수를 곱함: 15\n",
      "data:5:y의 값2\n",
      "2개의 수를 더함(새로운 숫자를 인수로 지정): 13\n",
      "2개의 수를 더함(인스턴스화 될 때의 값): 15\n",
      "2개의 수를 곱함: 12\n",
      "data:20:y의 값10\n"
     ]
    }
   ],
   "source": [
    "class MyCalcClass:\n",
    "    def __init__(self, x, y):\n",
    "        self.x = x\n",
    "        self.y = y\n",
    "    \n",
    "    def add1(self, a, b):\n",
    "        return a + b\n",
    "    \n",
    "    def add2(self):\n",
    "        return self.x + self.y\n",
    "    \n",
    "    def multi(self, a, b):\n",
    "        return a * b\n",
    "\n",
    "    def calc_print(self, a):\n",
    "        print('data:{0}:y의 값{1}'.format(a, self.y))\n",
    "\n",
    "instance_1 = MyCalcClass(1, 2)\n",
    "instance_2 = MyCalcClass(5, 10)\n",
    "\n",
    "print('2개의 수를 더함(새로운 숫자를 인수로 지정):', instance_1.add1(5, 3))\n",
    "print('2개의 수를 더함(인스턴스화 될 때의 값):', instance_1.add2())\n",
    "print('2개의 수를 곱함:', instance_1.multi(5, 3))\n",
    "instance_1.calc_print(5)\n",
    "\n",
    "print('2개의 수를 더함(새로운 숫자를 인수로 지정):', instance_2.add1(10, 3))\n",
    "print('2개의 수를 더함(인스턴스화 될 때의 값):', instance_2.add2())\n",
    "print('2개의 수를 곱함:', instance_2.multi(4, 3))\n",
    "instance_2.calc_print(20)"
   ]
  },
  {
   "cell_type": "code",
   "execution_count": 80,
   "id": "796eb119-9a42-402b-b8bc-b783250c4a85",
   "metadata": {},
   "outputs": [
    {
     "name": "stdout",
     "output_type": "stream",
     "text": [
      "[87, 3]\n"
     ]
    },
    {
     "data": {
      "text/plain": [
       "132"
      ]
     },
     "execution_count": 80,
     "metadata": {},
     "output_type": "execute_result"
    }
   ],
   "source": [
    "# 위의 클래스(MyCalcClass)를 사용해 새로운 인스턴스를 생성해(instance_3 같은) 무엇이라도 출력해봅시다. 또한 가능하면 다른 메서드(인수 2개의 차이 값 등)를 이 클래스에 추가하고 호출해 봅시다.\n",
    "\n",
    "class Calc:\n",
    "    def __init__(self, x, y):\n",
    "        self.x = x\n",
    "        self.y = y\n",
    "    \n",
    "    def add1(self, a, b):\n",
    "        return a + b\n",
    "    \n",
    "    def add2(self):\n",
    "        return self.x + self.y\n",
    "    \n",
    "    def multi(self, a, b):\n",
    "        return a * b\n",
    "\n",
    "    def get_list(self):\n",
    "        return list([self.x, self.y])\n",
    "\n",
    "    def calc_print(self, a):\n",
    "        print('data:{0}:y의 값{1}'.format(a, self.y))\n",
    "\n",
    "instance3 = Calc(87,3)\n",
    "\n",
    "print(instance3.get_list())\n",
    "instance3.add1(99, 33)"
   ]
  },
  {
   "cell_type": "code",
   "execution_count": null,
   "id": "3bbaa2d9-96f5-4121-8f65-9d3ebea3b397",
   "metadata": {},
   "outputs": [],
   "source": [
    "# 종합문제\n",
    "# 1. 10까지의 소수를 출력하는 프로그램을 작성하세요. 여기서 소수는 약수가 1과 자기자신뿐인 양의 정수를 말합니다.\n",
    "\n",
    "def is_prime(n):\n",
    "    if n <= 1:\n",
    "        return False\n",
    "    if n <= 3:\n",
    "        return True\n",
    "    if n % 2 == 0 or n % 3 == 0:\n",
    "        return False\n",
    "    \n",
    "    i = 5\n",
    "    while i * i <= n:  # 또는 i <= int(n**0.5)\n",
    "        if n % i == 0 or n % (i + 2) == 0:\n",
    "            return False\n",
    "        i += 6  # 6씩 증가하면서 6k+1, 6k+5 형태의 수만 확인\n",
    "    \n",
    "    return True\n",
    "        \n",
    "    "
   ]
  }
 ],
 "metadata": {
  "kernelspec": {
   "display_name": "Python 3 (ipykernel)",
   "language": "python",
   "name": "python3"
  },
  "language_info": {
   "codemirror_mode": {
    "name": "ipython",
    "version": 3
   },
   "file_extension": ".py",
   "mimetype": "text/x-python",
   "name": "python",
   "nbconvert_exporter": "python",
   "pygments_lexer": "ipython3",
   "version": "3.10.14"
  }
 },
 "nbformat": 4,
 "nbformat_minor": 5
}
