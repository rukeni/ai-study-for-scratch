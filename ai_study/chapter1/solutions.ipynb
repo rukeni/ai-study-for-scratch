{
 "cells": [
  {
   "cell_type": "markdown",
   "metadata": {},
   "source": [
    "# 양승민 문제"
   ]
  },
  {
   "cell_type": "markdown",
   "metadata": {},
   "source": [
    "## 문제 1: 리스트 조작하기\n",
    "\n",
    "1부터 20까지의 숫자 중에서 짝수만 포함하는 리스트를 만들고, 각 숫자를 3배로 늘린 결과를 출력하세요. 리스트 컴프리헨션을 활용해보세요."
   ]
  },
  {
   "cell_type": "code",
   "execution_count": null,
   "metadata": {
    "vscode": {
     "languageId": "plaintext"
    }
   },
   "outputs": [],
   "source": [
    "evens = [i for i in range(1, 21) if i % 2 == 0]\n",
    "tripled = [i * 3 for i in evens]\n",
    "print(tripled)"
   ]
  },
  {
   "cell_type": "markdown",
   "metadata": {},
   "source": [
    "## 문제 2: 딕셔너리 다루기\n",
    "\n",
    "다음과 같은 학생들의 점수 딕셔너리가 있습니다:\n",
    "\n",
    "```python\n",
    "scores = {'Alice': 85, 'Bob': 92, 'Charlie': 78, 'David': 95, 'Eva': 88}\n",
    "\n",
    "```\n",
    "\n",
    "1. 모든 학생 이름과 점수를 \"이름: 점수\" 형태로 출력하세요.\n",
    "2. 가장 높은 점수를 받은 학생의 이름과 점수를 출력하세요.\n",
    "3. 점수가 90점 이상인 학생들의 이름만 리스트로 만들어 출력하세요."
   ]
  },
  {
   "cell_type": "code",
   "execution_count": null,
   "metadata": {
    "vscode": {
     "languageId": "plaintext"
    }
   },
   "outputs": [],
   "source": [
    "scores = {'Alice': 85, 'Bob': 92, 'Charlie': 78, 'David': 95, 'Eva': 88}\n",
    "\n",
    "# 1. 모든 학생 이름과 점수를 \"이름: 점수\" 형태로 출력하세요.\n",
    "for name, score in scores.items():\n",
    "    print(f\"{name}: {score}\")\n",
    "\n",
    "# 2. 가장 높은 점수를 받은 학생의 이름과 점수를 출력하세요.\n",
    "max_score = max(scores.values())\n",
    "max_student = max(scores, key=scores.get)\n",
    "print(f\"가장 높은 점수를 받은 학생: {max_student}, 점수: {max_score}\")\n",
    "\n",
    "# 3. 점수가 90점 이상인 학생들의 이름만 리스트로 만들어 출력하세요.\n",
    "high_score_students = [name for name, score in scores.items() if score >= 90]\n",
    "print(high_score_students)"
   ]
  },
  {
   "cell_type": "markdown",
   "metadata": {},
   "source": [
    "# 김성민 문제"
   ]
  },
  {
   "cell_type": "markdown",
   "metadata": {
    "vscode": {
     "languageId": "plaintext"
    }
   },
   "source": [
    "## 문제 1. format과 소수점\n",
    "<hr>\n",
    "\n",
    "아래 코드를 실행하고, 지시에 따라 코드를 작성하세요.\n",
    "```python\n",
    "import math,io,sys\n",
    "\n",
    "def main(input_code):\n",
    "    origin_stdout = sys.stdout\n",
    "    sys.stdout = io.StringIO()\n",
    "\n",
    "    try:\n",
    "        exec(input_code)\n",
    "        output = sys.stdout.getvalue().strip()\n",
    "        answer = format(math.pi, \".6f\")\n",
    "        if output == answer:\n",
    "            return f\"Correct! (Output: {output})\"\n",
    "        else:\n",
    "            return f\"Incorrect! (Output: {output})\"\n",
    "\n",
    "    except Exception as e:\n",
    "        return f\"An Error Occurred during executing code. : {e}\"\n",
    "\n",
    "    finally:\n",
    "        sys.stdout = origin_stdout\n",
    "print(\"문제 : 숫자 출력 형식을 지정하는 방법을 이용해, 원주율의 값을 소수점 이하 6자리까지 출력하는 코드를 입력하세요. \\n(입력 종료는 엔터 두 번)\")\n",
    "lines = []\n",
    "while True:\n",
    "    line = input()\n",
    "    if line == \"\":\n",
    "        break\n",
    "    lines.append(line)\n",
    "\n",
    "input_code = \"\\n\".join(lines)\n",
    "result = main(input_code)\n",
    "print(result)\n",
    "```"
   ]
  },
  {
   "cell_type": "code",
   "execution_count": null,
   "metadata": {},
   "outputs": [],
   "source": [
    "# 문제 1 답변\n",
    "\n",
    "import math\n",
    "print(format(math.pi, \".6f\"))"
   ]
  },
  {
   "cell_type": "markdown",
   "metadata": {},
   "source": [
    "## 문제 2. 함수와 피보나치\n",
    "<hr>\n",
    "\n",
    "제 1항과 제 2항을 1이라 하고, 제 3항부터는 앞의 두 항의 합을 취하는 수열을 피보나치 수열이라고 한다.<br> \n",
    "예를 들어 제 3항은 2이며, 제 4항은 3이다.\n",
    "\n",
    "### 입력 : 첫째줄에 두 수 a,b를 공백으로 구분하여 입력받고 (0 < a < b)\n",
    "\n",
    "### 출력 : 첫째 줄에 구한 합을 출력한다. \n",
    "\n",
    "<hr>\n",
    "\n",
    "#### Test Case 1)\n",
    "\tInput : 4 10\n",
    "\tOutput : 139\n",
    "\t\n",
    "#### Test Case 2)\n",
    "\tInput : 3 5\n",
    "\tOutput : 10\n",
    "\n",
    "#### Test Case 3)\n",
    "\tInput : 3 6\n",
    "\tOutput : 18\n",
    "\n",
    "#### Test Case 4)\n",
    "\tInput : 11 63\n",
    "\tOutput : 17167680177421"
   ]
  },
  {
   "cell_type": "code",
   "execution_count": null,
   "metadata": {},
   "outputs": [],
   "source": [
    "# 문제 2 답변\n",
    "\n",
    "def fibonacci_sum(a, b):\n",
    "    # 피보나치 수열 생성\n",
    "    fib = [1, 1]\n",
    "    while len(fib) <= b:\n",
    "        fib.append(fib[-1] + fib[-2])\n",
    "    \n",
    "    # a번째부터 b번째까지의 합 계산\n",
    "    return sum(fib[a-1:b])\n",
    "\n",
    "# 테스트 케이스\n",
    "test_cases = [\n",
    "    (4, 10),   # 139\n",
    "    (3, 5),    # 10\n",
    "    (3, 6),    # 18\n",
    "    (11, 63)   # 17167680177421\n",
    "]\n",
    "\n",
    "for a, b in test_cases:\n",
    "    result = fibonacci_sum(a, b)\n",
    "    print(f\"Input: {a} {b}\")\n",
    "    print(f\"Output: {result}\\n\")"
   ]
  },
  {
   "cell_type": "markdown",
   "metadata": {},
   "source": [
    "# AI 무지 문제"
   ]
  },
  {
   "cell_type": "markdown",
   "metadata": {},
   "source": [
    "## 🥇 1번 문제 - 가위바위보 결과 구현\n",
    "\n",
    "### 📌 문제 설명\n",
    "\n",
    "- A와 B는 **총 3번의 가위바위보 게임**을 진행합니다.\n",
    "- 각 게임은 **비길 경우 다시 진행**하며, **승부가 나야 1게임**으로 인정됩니다.\n",
    "- 각 라운드의 승자와 **비긴 횟수**, **최종 승자**, 그리고 **최종 승자의 이력**을 출력합니다.\n",
    "- 가위바위보는 **랜덤**으로 결정합니다.\n",
    "\n",
    "### ✅ 출력 예시\n",
    "```\n",
    "#   [ 1  라운드 승자 A , 비긴횟수 :  0 ]\n",
    "#   [ 2  라운드 승자 A , 비긴횟수 :  0 ]\n",
    "#   [ 3  라운드 승자 B , 비긴횟수 :  1 ]\n",
    "#   ['최종 승리자 A']\n",
    "#   A 가 낸 가위바위보 이력 : ['보', '가위', '보', '바위']\n",
    "```"
   ]
  },
  {
   "cell_type": "code",
   "execution_count": null,
   "metadata": {},
   "outputs": [],
   "source": [
    "import random\n",
    "\n",
    "def play_rps():\n",
    "    choices = ['가위', '바위', '보']\n",
    "    a_history = []\n",
    "    b_history = []\n",
    "    wins = {'A': 0, 'B': 0}\n",
    "    rounds = 0\n",
    "    total_draws = 0\n",
    "    \n",
    "    while rounds < 3:\n",
    "        a_choice = random.choice(choices)\n",
    "        b_choice = random.choice(choices)\n",
    "        a_history.append(a_choice)\n",
    "        b_history.append(b_choice)\n",
    "        if a_choice == b_choice:\n",
    "            total_draws += 1\n",
    "            continue\n",
    "            \n",
    "        winner = None\n",
    "        if ((a_choice == '가위' and b_choice == '보') or\n",
    "            (a_choice == '바위' and b_choice == '가위') or\n",
    "            (a_choice == '보' and b_choice == '바위')):\n",
    "            winner = 'A'\n",
    "        else:\n",
    "            winner = 'B'\n",
    "            \n",
    "        wins[winner] += 1\n",
    "        rounds += 1\n",
    "        print(f\"[ {rounds} 라운드 승자 {winner} , 비긴횟수 : {total_draws} ]\")\n",
    "    \n",
    "    final_winner = 'A' if wins['A'] > wins['B'] else 'B'\n",
    "    print(f\"['최종 승리자 {final_winner}']\")\n",
    "    print(f\"{final_winner} 가 낸 가위바위보 이력 : {a_history}\")\n",
    "\n",
    "play_rps()"
   ]
  },
  {
   "cell_type": "markdown",
   "metadata": {},
   "source": [
    "## 🥈 2번 문제 - Numpy 없이 3x3 행렬 만들기\n",
    "\n",
    "### 📌 문제 설명\n",
    "\n",
    "- 각 원소의 값이 **행 번호 + 열 번호**인 `3 x 3` 행렬을 생성하세요.\n",
    "- 아래 내용을 함께 출력하세요:\n",
    "  - **대각선 원소 배열** (왼쪽 위 → 오른쪽 아래)\n",
    "  - **대각선 원소의 합**\n",
    "  - **가장 큰 합을 가진 행**\n",
    "  - **가장 작은 합을 가진 열**\n",
    "\n",
    "### ✅ 출력 예시\n",
    "```\n",
    "#행렬렬 [[2, 3, 4], [3, 4, 5], [4, 5, 6]]\n",
    "#대각원소소 [2, 4, 6]\n",
    "#대각원소합합 12\n",
    "#가장큰 행 [4, 5, 6]\n",
    "#가장 작은은열 [2, 3, 4]\n",
    "```"
   ]
  },
  {
   "cell_type": "code",
   "execution_count": null,
   "metadata": {},
   "outputs": [],
   "source": [
    "# 3x3 행렬 생성\n",
    "matrix = [[2, 3, 4], [3, 4, 5], [4, 5, 6]]\n",
    "print(f\"행렬: {matrix}\")\n",
    "\n",
    "# 대각선 원소\n",
    "diagonals = [matrix[i][i] for i in range(3)]\n",
    "print(f\"대각원소: {diagonals}\")\n",
    "\n",
    "# 대각선 원소의 합\n",
    "total_sum = sum(diagonals)\n",
    "print(f\"대각원소합: {total_sum}\")\n",
    "\n",
    "# 가장 큰 합을 가진 행\n",
    "max_row = max(matrix, key=sum)\n",
    "print(f\"가장큰 행: {max_row}\")\n",
    "\n",
    "# 가장 작은 합을 가진 열\n",
    "columns = [[matrix[i][j] for i in range(3)] for j in range(3)]\n",
    "min_col = min(columns, key=sum)\n",
    "print(f\"가장 작은 열: {min_col}\")"
   ]
  }
 ],
 "metadata": {
  "language_info": {
   "name": "python"
  }
 },
 "nbformat": 4,
 "nbformat_minor": 2
}
