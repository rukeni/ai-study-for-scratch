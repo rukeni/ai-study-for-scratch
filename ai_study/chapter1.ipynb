{
 "cells": [
  {
   "cell_type": "code",
   "execution_count": 2,
   "id": "47c7ecb3-7368-4fe4-917d-e476c9369bb4",
   "metadata": {},
   "outputs": [],
   "source": [
    "# 리스트 생성"
   ]
  },
  {
   "cell_type": "code",
   "execution_count": 5,
   "id": "dbda07ee-5fea-470c-8d04-6d2f8df141d2",
   "metadata": {},
   "outputs": [
    {
     "name": "stdout",
     "output_type": "stream",
     "text": [
      "[1, 2, 3, 4, 5, 6, 7, 8, 9, 10]\n"
     ]
    }
   ],
   "source": [
    "data_list = [1,2,3,4,5,6,7,8,9,10]\n",
    "print(data_list)"
   ]
  },
  {
   "cell_type": "code",
   "execution_count": 6,
   "id": "df0799cd-3afc-4ed0-8537-343168a7fbd4",
   "metadata": {},
   "outputs": [
    {
     "name": "stdout",
     "output_type": "stream",
     "text": [
      "변수 형: <class 'list'>\n"
     ]
    }
   ],
   "source": [
    "# type 명령으로 변수 형을 알 수 있다\n",
    "print('변수 형:', type(data_list))"
   ]
  },
  {
   "cell_type": "code",
   "execution_count": 8,
   "id": "d18b9dcd-7d6c-4a80-a27e-5260b15f1c27",
   "metadata": {},
   "outputs": [
    {
     "name": "stdout",
     "output_type": "stream",
     "text": [
      "두 번째 원소: 2\n"
     ]
    }
   ],
   "source": [
    "# 1개의 원소를 출력한다. 0부터 시작하므로 [1]은 두 번째 원솟값이다.\n",
    "print('두 번째 원소:', data_list[1])"
   ]
  },
  {
   "cell_type": "code",
   "execution_count": 18,
   "id": "beb4d221-9179-4e8a-9106-29b8d4c55e41",
   "metadata": {},
   "outputs": [
    {
     "name": "stdout",
     "output_type": "stream",
     "text": [
      "원소의 개수: 10\n"
     ]
    }
   ],
   "source": [
    "# len 함수로 원소의 개수를 출력.\n",
    "# 여기에서는 1부터 10까지 10개의 원소가 있기 때문에 결과는 10이다.\n",
    "print('원소의 개수:', len(data_list))"
   ]
  },
  {
   "cell_type": "code",
   "execution_count": 19,
   "id": "ed8653a0-491d-40cb-a939-d50544a28c9f",
   "metadata": {},
   "outputs": [
    {
     "name": "stdout",
     "output_type": "stream",
     "text": [
      "3\n"
     ]
    }
   ],
   "source": [
    "# 주피터 환경에서 노트북 위의 +을 눌러(또는 커맨드 모드에서 b를 눌러) 셀을 추가하고 리스트를 생성해 원소의 개수를 출력해봅시다.\n",
    "try_list = [1,2,3]\n",
    "print(len(try_list))"
   ]
  },
  {
   "cell_type": "code",
   "execution_count": 20,
   "id": "b5140689-86d8-4ade-a2d1-063dd0eea5b8",
   "metadata": {},
   "outputs": [
    {
     "data": {
      "text/plain": [
       "[1, 2, 3, 4, 5, 6, 7, 8, 9, 10, 1, 2, 3, 4, 5, 6, 7, 8, 9, 10]"
      ]
     },
     "execution_count": 20,
     "metadata": {},
     "output_type": "execute_result"
    }
   ],
   "source": [
    "# 리스트 자체가 두 번 생성됨\n",
    "# 너무 신기하다..\n",
    "data_list * 2"
   ]
  },
  {
   "cell_type": "code",
   "execution_count": 32,
   "id": "8a63ba87-2a10-4d6b-87f4-49ad5d7b449d",
   "metadata": {},
   "outputs": [
    {
     "name": "stdout",
     "output_type": "stream",
     "text": [
      "[2, 3, 5, 6, 7, 8, 9, 10, 123, 123, 123, 123, 123, 123]\n",
      "[2, 3, 5, 6, 7, 8, 9, 10, 123, 123, 123, 123, 123]\n",
      "[2, 3, 5, 6, 7, 8, 9, 10, 123, 123, 123, 123]\n",
      "[2, 3, 5, 6, 7, 8, 9, 10, 123, 123, 123]\n"
     ]
    }
   ],
   "source": [
    "# 리스트에 원소를 추가하거나 삭제하는 방법을 찾아보고 실행해 봅시다.\n",
    "data_list.append(123)\n",
    "print(data_list)\n",
    "\n",
    "data_list.remove(123)\n",
    "print(data_list)\n",
    "\n",
    "data_list.pop()\n",
    "print(data_list)\n",
    "\n",
    "del data_list[len(data_list) - 1]\n",
    "print(data_list)"
   ]
  },
  {
   "cell_type": "code",
   "execution_count": 16,
   "id": "4a917269-b8a2-4cc8-92bb-f75a01629e3d",
   "metadata": {},
   "outputs": [
    {
     "name": "stdout",
     "output_type": "stream",
     "text": [
      "500\n"
     ]
    }
   ],
   "source": [
    "# 딕셔너리\n",
    "dic_data = {'apple': 100, 'banana': 100, 'orange': 300, 'mango': 400, 'melon': 500}\n",
    "print(dic_data['melon'])"
   ]
  },
  {
   "cell_type": "code",
   "execution_count": 34,
   "id": "80007da8-9da2-4a03-b5a1-7bc2ae63abfe",
   "metadata": {},
   "outputs": [
    {
     "name": "stdout",
     "output_type": "stream",
     "text": [
      "300\n",
      "더하기 apple + orange = 400\n"
     ]
    }
   ],
   "source": [
    "# 위의 코드에서는 melon의 값을 출력했는데, 이번에는 orange의 값을 출력해 봅시다. 또 키가 apple, orange인 값을 서로 더해 봅시다.\n",
    "print(dic_data['orange'])\n",
    "print('더하기 apple + orange =', dic_data['apple'] + dic_data['orange'])"
   ]
  },
  {
   "cell_type": "code",
   "execution_count": 39,
   "id": "4d85f79f-f577-4956-ba69-ee2a449d5780",
   "metadata": {},
   "outputs": [
    {
     "name": "stdout",
     "output_type": "stream",
     "text": [
      "{'banana': 100, 'orange': 300, 'mango': 400, 'melon': 500, 'grape': 700}\n"
     ]
    }
   ],
   "source": [
    "# 딕셔너리 데이터에 새로운 원소를 추가하거나 삭제하는 방법을 찾아보고 실행해 봅시다.\n",
    "# dic_data['grape'] = 700 # 추가\n",
    "# del dic_data['apple'] # 삭제\n",
    "\n",
    "print(dic_data)"
   ]
  },
  {
   "cell_type": "code",
   "execution_count": null,
   "id": "4af35b31-5b03-4c3e-a36a-cb131fdf3ad9",
   "metadata": {},
   "outputs": [],
   "source": [
    "# 파이썬 튜플과 집합에 대해 역할과 사용 방법을 찾아보고 사용해 봅시다.\n"
   ]
  }
 ],
 "metadata": {
  "kernelspec": {
   "display_name": "Python 3 (ipykernel)",
   "language": "python",
   "name": "python3"
  },
  "language_info": {
   "codemirror_mode": {
    "name": "ipython",
    "version": 3
   },
   "file_extension": ".py",
   "mimetype": "text/x-python",
   "name": "python",
   "nbconvert_exporter": "python",
   "pygments_lexer": "ipython3",
   "version": "3.10.14"
  }
 },
 "nbformat": 4,
 "nbformat_minor": 5
}
